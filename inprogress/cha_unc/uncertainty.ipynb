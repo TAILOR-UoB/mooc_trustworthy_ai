{
 "cells": [
  {
   "cell_type": "code",
   "execution_count": 1,
   "id": "aquatic-ukraine",
   "metadata": {
    "slideshow": {
     "slide_type": "-"
    }
   },
   "outputs": [],
   "source": [
    "# Setup Reveal.JS\n",
    "from traitlets.config.manager import BaseJSONConfigManager\n",
    "from pathlib import Path\n",
    "path = Path.home() / \".jupyter\" / \"nbconfig\"\n",
    "cm = BaseJSONConfigManager(config_dir=str(path))\n",
    "# ipyleaflet hack to load full map in Reveal.js\n",
    "# These settings are also injected into the notebook metadata\n",
    "# (Edit -> Edit Notebook Metadata), which is the preferred method\n",
    "cm.update(\n",
    "    \"rise\",\n",
    "    {\"minScale\": 1.25,\n",
    "     \"width\": \"80%\",\n",
    "     \"transition\": \"none\",\n",
    "     #\"start_slideshow_at\": \"beginning\",\n",
    "     #\"auto_select\": \"none\",\n",
    "     #\"autolaunch\": \"true\"\n",
    "    }\n",
    ")\n",
    "\n",
    "#import pdfkit\n",
    "\n",
    "from ipywidgets.embed import embed_minimal_html\n",
    "\n",
    "def save_ipyleaflet(m, filename):\n",
    "    embed_minimal_html(filename + '.html', views=[m])\n",
    "    \n",
    "import matplotlib.pyplot as plt\n",
    "import numpy as np\n",
    "np.random.seed(42)"
   ]
  },
  {
   "cell_type": "code",
   "execution_count": 2,
   "id": "democratic-popularity",
   "metadata": {
    "slideshow": {
     "slide_type": "skip"
    }
   },
   "outputs": [],
   "source": [
    "from utils import AIUKSlides\n",
    "bristol_center = (51.4545, -2.5879)\n",
    "\n",
    "slides = AIUKSlides(local_center=bristol_center, isolines=[.0, .2, .4, .6, .8, 1.0],\n",
    "                    width='600px', height='400px', grid_density=500)"
   ]
  },
  {
   "cell_type": "markdown",
   "id": "induced-jason",
   "metadata": {
    "slideshow": {
     "slide_type": "subslide"
    }
   },
   "source": [
    "# Some recent COVID-19 data"
   ]
  },
  {
   "cell_type": "code",
   "execution_count": 3,
   "id": "lucky-humidity",
   "metadata": {
    "scrolled": false,
    "slideshow": {
     "slide_type": "-"
    }
   },
   "outputs": [
    {
     "data": {
      "application/vnd.jupyter.widget-view+json": {
       "model_id": "90936cc826924e318da8a01c2279cb82",
       "version_major": 2,
       "version_minor": 0
      },
      "text/plain": [
       "Map(center=[53, -2], controls=(ZoomControl(options=['position', 'zoom_in_text', 'zoom_in_title', 'zoom_out_tex…"
      ]
     },
     "metadata": {},
     "output_type": "display_data"
    }
   ],
   "source": [
    "m = slides.map_covid_uk()\n",
    "display(m)\n",
    "save_ipyleaflet(m, 'covid_england')"
   ]
  },
  {
   "cell_type": "markdown",
   "id": "greenhouse-spyware",
   "metadata": {
    "slideshow": {
     "slide_type": "-"
    }
   },
   "source": [
    "Case numbers going up/down in <span style=\"color:red\">red</span>/<span style=\"color:blue\">blue</span>."
   ]
  },
  {
   "cell_type": "markdown",
   "id": "transparent-premises",
   "metadata": {
    "slideshow": {
     "slide_type": "subslide"
    }
   },
   "source": [
    "# Zooming in on Bristol"
   ]
  },
  {
   "cell_type": "code",
   "execution_count": 4,
   "id": "assisted-cutting",
   "metadata": {
    "slideshow": {
     "slide_type": "-"
    }
   },
   "outputs": [
    {
     "data": {
      "application/vnd.jupyter.widget-view+json": {
       "model_id": "20f6ce432fb84463b1724e7007010b40",
       "version_major": 2,
       "version_minor": 0
      },
      "text/plain": [
       "Map(center=[51.4545, -2.5879], controls=(ZoomControl(options=['position', 'zoom_in_text', 'zoom_in_title', 'zo…"
      ]
     },
     "metadata": {},
     "output_type": "display_data"
    }
   ],
   "source": [
    "m = slides.map_covid_local()\n",
    "display(m)\n",
    "save_ipyleaflet(m, 'covid_bristol')"
   ]
  },
  {
   "cell_type": "code",
   "execution_count": 5,
   "id": "little-credits",
   "metadata": {
    "slideshow": {
     "slide_type": "skip"
    }
   },
   "outputs": [],
   "source": [
    "from utils import KDE\n",
    "clf = KDE(bandwidth=0.005)\n",
    "\n",
    "slides.train_local_classifier(clf)\n",
    "slides.train_local_foreground()"
   ]
  },
  {
   "cell_type": "markdown",
   "id": "permanent-belfast",
   "metadata": {
    "slideshow": {
     "slide_type": "subslide"
    }
   },
   "source": [
    "# AI can distinguish between up/down areas"
   ]
  },
  {
   "cell_type": "code",
   "execution_count": 6,
   "id": "communist-sucking",
   "metadata": {
    "scrolled": false
   },
   "outputs": [
    {
     "data": {
      "application/vnd.jupyter.widget-view+json": {
       "model_id": "8bb685ccaafe4f76939fcbcd5220fa0f",
       "version_major": 2,
       "version_minor": 0
      },
      "text/plain": [
       "Map(center=[51.4545, -2.5879], controls=(ZoomControl(options=['position', 'zoom_in_text', 'zoom_in_title', 'zo…"
      ]
     },
     "metadata": {},
     "output_type": "display_data"
    }
   ],
   "source": [
    "m = slides.map_local_classifier_foreground()\n",
    "display(m)\n",
    "save_ipyleaflet(m, 'covid_bristol_bc_kde')"
   ]
  },
  {
   "cell_type": "markdown",
   "id": "agreed-height",
   "metadata": {
    "slideshow": {
     "slide_type": "subslide"
    }
   },
   "source": [
    "# What actually happens with discriminative models"
   ]
  },
  {
   "cell_type": "code",
   "execution_count": null,
   "id": "animal-accuracy",
   "metadata": {
    "scrolled": false
   },
   "outputs": [],
   "source": [
    "m = slides.map_local_classifier(fillopacity=0.4, lineopacity=1.0)\n",
    "display(m)\n",
    "save_ipyleaflet(m, 'covid_bristol_kde')"
   ]
  },
  {
   "cell_type": "markdown",
   "id": "atomic-significance",
   "metadata": {
    "slideshow": {
     "slide_type": "subslide"
    }
   },
   "source": [
    "# Different model, similar issue"
   ]
  },
  {
   "cell_type": "code",
   "execution_count": null,
   "id": "correct-murray",
   "metadata": {
    "scrolled": false
   },
   "outputs": [],
   "source": [
    "from sklearn.ensemble import RandomForestClassifier\n",
    "clf2 = RandomForestClassifier()\n",
    "slides.train_local_classifier(clf2)\n",
    "m = slides.map_local_classifier(fillopacity=0.4, lineopacity=1.0)\n",
    "display(m)\n",
    "save_ipyleaflet(m, 'covid_bristol_rf')"
   ]
  },
  {
   "cell_type": "markdown",
   "id": "integral-allah",
   "metadata": {
    "slideshow": {
     "slide_type": "subslide"
    }
   },
   "source": [
    "In the COVID-19 example we see that a discriminative model has no problem making confident -- but unjustified -- predictions in areas without training data. "
   ]
  },
  {
   "cell_type": "code",
   "execution_count": null,
   "id": "disciplinary-transportation",
   "metadata": {
    "slideshow": {
     "slide_type": "-"
    }
   },
   "outputs": [],
   "source": [
    "display(slides.map_local_classifier(fillopacity=0.4, lineopacity=1.0))\n",
    "save_ipyleaflet(m, 'covid_bristol_rf_2')"
   ]
  },
  {
   "cell_type": "markdown",
   "id": "leading-manchester",
   "metadata": {
    "slideshow": {
     "slide_type": "fragment"
    }
   },
   "source": [
    "The issue is that a learned model usually operates without direct access to the data used to train it, and so has no way of knowing when it ventures out of its \"comfort zone\". "
   ]
  },
  {
   "cell_type": "markdown",
   "id": "communist-programmer",
   "metadata": {
    "slideshow": {
     "slide_type": "subslide"
    }
   },
   "source": [
    "Luckily there are techniques for identifying a model's \"comfort zone\": one such technique called [`Background Check`](https://reframe.github.io/background_check/) works by introducing an additional \"background class\" during training. "
   ]
  },
  {
   "cell_type": "markdown",
   "id": "religious-richmond",
   "metadata": {
    "slideshow": {
     "slide_type": "subslide"
    }
   },
   "source": [
    "This was in fact the technique used previously, showing only the \"foreground\" classes. "
   ]
  },
  {
   "cell_type": "code",
   "execution_count": null,
   "id": "recognized-visibility",
   "metadata": {
    "scrolled": false,
    "slideshow": {
     "slide_type": "-"
    }
   },
   "outputs": [],
   "source": [
    "display(slides.map_local_classifier_foreground())\n",
    "save_ipyleaflet(m, 'covid_bristol_rf_bc')"
   ]
  },
  {
   "cell_type": "markdown",
   "id": "isolated-generic",
   "metadata": {
    "slideshow": {
     "slide_type": "slide"
    }
   },
   "source": [
    "# Why does this matter?"
   ]
  },
  {
   "cell_type": "code",
   "execution_count": null,
   "id": "continent-sussex",
   "metadata": {},
   "outputs": [],
   "source": []
  }
 ],
 "metadata": {
  "celltoolbar": "Slideshow",
  "kernelspec": {
   "display_name": "Python 3 (ipykernel)",
   "language": "python",
   "name": "python3"
  },
  "language_info": {
   "codemirror_mode": {
    "name": "ipython",
    "version": 3
   },
   "file_extension": ".py",
   "mimetype": "text/x-python",
   "name": "python",
   "nbconvert_exporter": "python",
   "pygments_lexer": "ipython3",
   "version": "3.8.10"
  },
  "rise": {
   "minScale": 1.25,
   "transition": "none",
   "width": "80%"
  }
 },
 "nbformat": 4,
 "nbformat_minor": 5
}
